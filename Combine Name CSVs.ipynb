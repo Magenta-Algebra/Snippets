{
 "cells": [
  {
   "cell_type": "code",
   "execution_count": 107,
   "id": "1902d590-86f7-4404-a517-5f1b0f07480d",
   "metadata": {
    "tags": []
   },
   "outputs": [],
   "source": [
    "import os\n",
    "import pandas as pd\n",
    "\n",
    "name_directory = \"Your Folder Path Here\"\n",
    "filenames = os.listdir(name_directory)\n",
    "os.chdir(name_directory)\n",
    "combined_exist = \"Names_Years_All.csv\" in filenames\n",
    "\n",
    "#Read in each CSV and add a column denoting year based on filename unless folder contents indicate this has already been done. \n",
    "#Output the updated CSV to a new file.\n",
    "for name in filenames:\n",
    "    if (\".csv\" not in name) and (name[:7] + \"_modified.csv\" not in filenames) :\n",
    "        currentcsv = pd.read_csv(name, header=None)\n",
    "        currentcsv[3]= name[3:7]\n",
    "        currentcsv.to_csv(name[:-4]+\"_modified.csv\")\n",
    "\n",
    "#Update the list of files to include the newly created CSVs\n",
    "filenames = os.listdir(name_directory)\n",
    "\n",
    "#Concatenate the newly created CSVs and export to file if such a file doesn't already exist\n",
    "if not combined_exist:\n",
    "    allnames = pd.concat([pd.read_csv(f,header=None) for f in filenames if f.endswith(\"modified.csv\")])\n",
    "    allnames.to_csv(\"Names_Years_All.csv\")"
   ]
  }
 ],
 "metadata": {
  "kernelspec": {
   "display_name": "Python 3 (ipykernel)",
   "language": "python",
   "name": "python3"
  },
  "language_info": {
   "codemirror_mode": {
    "name": "ipython",
    "version": 3
   },
   "file_extension": ".py",
   "mimetype": "text/x-python",
   "name": "python",
   "nbconvert_exporter": "python",
   "pygments_lexer": "ipython3",
   "version": "3.11.3"
  }
 },
 "nbformat": 4,
 "nbformat_minor": 5
}
